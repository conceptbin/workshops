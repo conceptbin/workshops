{
  "nbformat": 4,
  "nbformat_minor": 0,
  "metadata": {
    "colab": {
      "provenance": [],
      "toc_visible": true,
      "collapsed_sections": [
        "S7NgOzXf8Uu7"
      ],
      "mount_file_id": "1DRjAh3sLobgEG6BsyrKdFo9iu5Gpfc6r",
      "authorship_tag": "ABX9TyN18SVKwrmZbxJkw6UyVIkJ",
      "include_colab_link": true
    },
    "kernelspec": {
      "name": "python3",
      "display_name": "Python 3"
    },
    "language_info": {
      "name": "python"
    }
  },
  "cells": [
    {
      "cell_type": "markdown",
      "metadata": {
        "id": "view-in-github",
        "colab_type": "text"
      },
      "source": [
        "<a href=\"https://colab.research.google.com/github/conceptbin/workshops/blob/main/DAPy01_Why_Python.ipynb\" target=\"_parent\"><img src=\"https://colab.research.google.com/assets/colab-badge.svg\" alt=\"Open In Colab\"/></a>"
      ]
    },
    {
      "cell_type": "markdown",
      "source": [
        "# Why bother with Python?\n",
        "Programming involves, at first sight, a lot more effort than running Excel or Google Sheets. Which is true. Sometimes you just need a simple spreadsheet, and sometimes you need a bit more.\n",
        "\n",
        "This session aims to introduce you to the possibilities of working beyond spreadsheets:\n",
        "1. The Colab environment.\n",
        "2. Key libraries for working with data (Pandas, Seaborn).\n",
        "3. Getting started with key **functions** for data analysis.\n",
        "4. Applying those functions to actual data.\n",
        "\n",
        "\n"
      ],
      "metadata": {
        "id": "OYuiayabj4c4"
      }
    },
    {
      "cell_type": "markdown",
      "source": [
        "> \"One reason I love programming is that it’s a cross between magic spells and LEGO.\" (Cassie Kozyrkov, [\"Understanding Data\"](https://medium.com/towards-data-science/what-is-data-8f94ae3a56b4))"
      ],
      "metadata": {
        "id": "cmPfXLQdb09I"
      }
    },
    {
      "cell_type": "markdown",
      "source": [
        "# Introducing Colab\n",
        "Google Colab is a programming environment that runs in the cloud (on a Google server). A Colab notebook allows you to write and annotate code and to run it on a self-contained virtual machine in the cloud. This means that you do not have to install a Python environment with all the necessary libraries on your own machine.\n",
        "\n",
        "* [Introduction to Colab](https://colab.research.google.com/) (in notebook format)"
      ],
      "metadata": {
        "id": "UbExQ964mEMM"
      }
    },
    {
      "cell_type": "markdown",
      "source": [
        "# Libraries for data analysis\n",
        "In Python, you can use specialist libraries to perform specific tasks. The libraries we focus on today are:\n",
        "* [Pandas](https://pandas.pydata.org/docs/index.html) (for data analysis)\n",
        "* [Seaborn](https://seaborn.pydata.org/tutorial/introduction.html) (for data visualisation)"
      ],
      "metadata": {
        "id": "P6im2bHmmHP4"
      }
    },
    {
      "cell_type": "markdown",
      "source": [
        "# Functions\n",
        "Libraries are like software programs that rely on Python to run. Instead of using graphical interfaces to run it we use the **functions** that come with those libraries."
      ],
      "metadata": {
        "id": "NgTS9Vg8iVeV"
      }
    },
    {
      "cell_type": "code",
      "source": [
        "# This code cell loads the Pandas and Seaborn libraries, and gives them short-form names.\n",
        "import pandas as pd\n",
        "import seaborn as sns"
      ],
      "metadata": {
        "id": "tMpHq5wh1tDG"
      },
      "execution_count": null,
      "outputs": []
    },
    {
      "cell_type": "markdown",
      "source": [
        "# Numerical data\n",
        "First, let's load some simple numerical data. Here we look at the UK 2021 Census dataset on towns and housing ([source](https://www.ons.gov.uk/peoplepopulationandcommunity/housing/datasets/townsandcitiesanalysis)). This subset of the data shows the percentage of each area's population within certain age ranges."
      ],
      "metadata": {
        "id": "z6OTJ1N-y9ey"
      }
    },
    {
      "cell_type": "code",
      "source": [
        "# URL of the data file:\n",
        "housing_url = 'https://github.com/conceptbin/DA_Notebooks/raw/master/py-intro/data/UK2021census_town_population.csv'\n",
        "# Tell pandas to create a dataframe\n",
        "df_hs = pd.read_csv(housing_url)"
      ],
      "metadata": {
        "id": "GKhW31SrpeT5"
      },
      "execution_count": null,
      "outputs": []
    },
    {
      "cell_type": "markdown",
      "source": [
        "Here we declared a *variable* (housing_url) and used it in the pandas (pd) *function* `read_csv()`"
      ],
      "metadata": {
        "id": "ju73Nu-Po7Kc"
      }
    },
    {
      "cell_type": "markdown",
      "source": [
        "But what have we loaded? Let's take a look at (some of) the data:"
      ],
      "metadata": {
        "id": "hzuH9ZkgphPo"
      }
    },
    {
      "cell_type": "code",
      "source": [
        "# Display the dataframe within the notebook\n",
        "df_hs"
      ],
      "metadata": {
        "id": "O4kQ2Wrcybb5"
      },
      "execution_count": null,
      "outputs": []
    },
    {
      "cell_type": "markdown",
      "source": [
        "The table above shows the top and tail (first and last five rows of data) of the **dataframe**, which is a data table in pandas. It's called a data \"frame\" because it's a flat, two-dimensional table of data organised in columns and rows."
      ],
      "metadata": {
        "id": "Pn1tZqaGp-rU"
      }
    },
    {
      "cell_type": "markdown",
      "source": [
        "## Describe the data using functions\n",
        "Let's try some functions to summarise the data ([full tutorial here](https://pandas.pydata.org/docs/getting_started/intro_tutorials/06_calculate_statistics.html)):"
      ],
      "metadata": {
        "id": "R7rxhDhdyZJy"
      }
    },
    {
      "cell_type": "markdown",
      "source": [
        "### `info()`"
      ],
      "metadata": {
        "id": "2BDavufu77gr"
      }
    },
    {
      "cell_type": "code",
      "source": [
        "df_hs.info()"
      ],
      "metadata": {
        "id": "8kOCkb1opeAN"
      },
      "execution_count": null,
      "outputs": []
    },
    {
      "cell_type": "markdown",
      "source": [
        "The `info()` function gives you the basic shape (how many rows and columns) of the dataframe, a list of columns, and a description of how many have data in them (i.e., are \"non-null\") and what data type they are."
      ],
      "metadata": {
        "id": "Mhxqf8CKrSPw"
      }
    },
    {
      "cell_type": "markdown",
      "source": [
        "### `describe()`"
      ],
      "metadata": {
        "id": "Yw1bzwvc8DNG"
      }
    },
    {
      "cell_type": "code",
      "source": [
        "df_hs.describe().round(2)"
      ],
      "metadata": {
        "id": "Dr85pozhpd9Z"
      },
      "execution_count": null,
      "outputs": []
    },
    {
      "cell_type": "markdown",
      "source": [
        "The `describe()` function gives you descriptive statistics about the numerical columns in your dataframe. These 8 data points can tell you a lot about your dataset at a glance, especially how the data is *distributed* within each column."
      ],
      "metadata": {
        "id": "hITHdFK_rk1F"
      }
    },
    {
      "cell_type": "code",
      "source": [
        "# Show a list of column headings\n",
        "df_hs.keys()"
      ],
      "metadata": {
        "id": "fKFKukq5AbcK"
      },
      "execution_count": null,
      "outputs": []
    },
    {
      "cell_type": "markdown",
      "source": [
        "### `unique()`\n",
        "Unique values for a specific column:"
      ],
      "metadata": {
        "id": "AOLjIfdF5f6M"
      }
    },
    {
      "cell_type": "code",
      "source": [
        "df_hs['Region/Country'].unique()"
      ],
      "metadata": {
        "id": "yzYZLx-c7OIe"
      },
      "execution_count": null,
      "outputs": []
    },
    {
      "cell_type": "markdown",
      "source": [
        "### `sort()`\n",
        "You can sort the dataframe by one or more column. The code below sorts, and the  `slice` operator `[:10]` shows the first 10 rows of data."
      ],
      "metadata": {
        "id": "S7NgOzXf8Uu7"
      }
    },
    {
      "cell_type": "code",
      "source": [
        "# Top 10 regions for the largest percentage of children in the population\n",
        "df_hs.sort_values(by='Population aged 0-15 ', ascending=False)[:10]"
      ],
      "metadata": {
        "id": "Vprkh9nJAbIW"
      },
      "execution_count": null,
      "outputs": []
    },
    {
      "cell_type": "markdown",
      "source": [
        "# Visualise distributions"
      ],
      "metadata": {
        "id": "_KuB5jZJFKbj"
      }
    },
    {
      "cell_type": "markdown",
      "source": [
        "## Histogram\n",
        "Histogram, using Seaborn, `histplot()`, bin width of 1."
      ],
      "metadata": {
        "id": "4zje9W_BmUCs"
      }
    },
    {
      "cell_type": "code",
      "source": [
        "sns.histplot(data=df_hs, x='Population aged 0-15 ', binwidth=1)"
      ],
      "metadata": {
        "id": "haRxEK67CYks"
      },
      "execution_count": null,
      "outputs": []
    },
    {
      "cell_type": "markdown",
      "source": [
        "## Box plot\n",
        "Box plot with Seaborn `boxplot()`"
      ],
      "metadata": {
        "id": "Nlz9Hcx4mkwK"
      }
    },
    {
      "cell_type": "code",
      "source": [
        "sns.boxplot(data=df_hs, y='Population aged 0-15 ')"
      ],
      "metadata": {
        "id": "3HOkJ3D2HYW0"
      },
      "execution_count": null,
      "outputs": []
    },
    {
      "cell_type": "markdown",
      "source": [
        "## Scatterplot"
      ],
      "metadata": {
        "id": "CBr1uhLGm88t"
      }
    },
    {
      "cell_type": "code",
      "source": [
        "# Scatterplot by selected region\n",
        "sns.relplot(data=df_hs, x='Population aged 0-15 ', y='Region/Country')"
      ],
      "metadata": {
        "id": "kZBmcmJZAd6G"
      },
      "execution_count": null,
      "outputs": []
    },
    {
      "cell_type": "markdown",
      "source": [
        "Here's a scatterplot for all the data columns. We pass the whole dataframe to Seaborn, which inteprets the wide-form data for plotting without any further instructions needed. ([Seaborn guidance on data structures](https://seaborn.pydata.org/tutorial/data_structure.html).)"
      ],
      "metadata": {
        "id": "2qXAOdbEq6Mj"
      }
    },
    {
      "cell_type": "code",
      "source": [
        "# Scatterplot for all data columns.\n",
        "sns.relplot(data=df_hs)"
      ],
      "metadata": {
        "id": "1NKulFDjp0iE"
      },
      "execution_count": null,
      "outputs": []
    },
    {
      "cell_type": "markdown",
      "source": [
        "# Compare categories"
      ],
      "metadata": {
        "id": "XNOrAPDS5Ura"
      }
    },
    {
      "cell_type": "markdown",
      "source": [
        "To have more control over how the categories are plotted, we \"melt\" the dataset into \"long-form\" (or *tidy format*)."
      ],
      "metadata": {
        "id": "OdiTaBqbrhqF"
      }
    },
    {
      "cell_type": "code",
      "source": [
        "# Melt the population columns into an identifier ('Age Range') and value ('Pop Pct')\n",
        "df_hs_melt = pd.melt(df_hs, id_vars=['TCITY15CD', 'Town/City', 'Region/Country'], value_vars=['Population aged 0-15 ',\n",
        "       'Population aged 16-64 ', 'Population aged 65+ ', 'Population aged 85+ '], var_name='Age Range', value_name='Pop Pct')"
      ],
      "metadata": {
        "id": "AvszyR_y5TWl"
      },
      "execution_count": null,
      "outputs": []
    },
    {
      "cell_type": "code",
      "source": [
        "df_hs_melt"
      ],
      "metadata": {
        "id": "czupjw3msGfe"
      },
      "execution_count": null,
      "outputs": []
    },
    {
      "cell_type": "markdown",
      "source": [
        "This allows us to select how we plot the data (i.e., by Town/City or by Region/Country)."
      ],
      "metadata": {
        "id": "VabRsjAesgvg"
      }
    },
    {
      "cell_type": "code",
      "source": [
        "sns.catplot(data=df_hs_melt, kind='strip', x='Pop Pct', y='Region/Country', hue='Age Range', aspect=1.5)"
      ],
      "metadata": {
        "id": "MSS3L4K75TRK"
      },
      "execution_count": null,
      "outputs": []
    },
    {
      "cell_type": "code",
      "source": [],
      "metadata": {
        "id": "8E8GPtLbvb-e"
      },
      "execution_count": null,
      "outputs": []
    }
  ]
}