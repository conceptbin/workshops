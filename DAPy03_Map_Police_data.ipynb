{
  "cells": [
    {
      "cell_type": "markdown",
      "metadata": {
        "id": "view-in-github",
        "colab_type": "text"
      },
      "source": [
        "<a href=\"https://colab.research.google.com/github/conceptbin/workshops/blob/main/DAPy03_Map_Police_data.ipynb\" target=\"_parent\"><img src=\"https://colab.research.google.com/assets/colab-badge.svg\" alt=\"Open In Colab\"/></a>"
      ]
    },
    {
      "cell_type": "markdown",
      "metadata": {
        "id": "w0b6PNJvIOBh"
      },
      "source": [
        "# Map of selected police data\n",
        "Data source: records of street-level crime from the Metropolitan Police, available at [data.police.uk](https://data.police.uk/)."
      ]
    },
    {
      "cell_type": "code",
      "source": [
        "%pip install mapclassify"
      ],
      "metadata": {
        "id": "zy_MMbiRcMv_"
      },
      "execution_count": null,
      "outputs": []
    },
    {
      "cell_type": "code",
      "execution_count": null,
      "metadata": {
        "id": "81SyVivjIOBk"
      },
      "outputs": [],
      "source": [
        "import pandas as pd\n",
        "import geopandas as gpd"
      ]
    },
    {
      "cell_type": "markdown",
      "metadata": {
        "id": "TxDOOfwOIOBm"
      },
      "source": [
        "# Load and prepare data\n",
        "Load police dataset: Street-level crime, Metropolitan Police, August 2023."
      ]
    },
    {
      "cell_type": "code",
      "execution_count": null,
      "metadata": {
        "id": "DcKAJFxHIOBm"
      },
      "outputs": [],
      "source": [
        "# File path\n",
        "file = r'https://github.com/conceptbin/DA_Notebooks/raw/master/pandas-intro/data/2023-08-metropolitan-street.csv'\n",
        "# Create dataframe (df)\n",
        "df = pd.read_csv(file)"
      ]
    },
    {
      "cell_type": "markdown",
      "metadata": {
        "id": "RWODlUa1IOBm"
      },
      "source": [
        "## Add Local Authority name\n",
        "Create a Local_Authority column from LSOA_name, to more easily identify crime data by borough."
      ]
    },
    {
      "cell_type": "code",
      "execution_count": null,
      "metadata": {
        "id": "Uo9Me5ylIOBn"
      },
      "outputs": [],
      "source": [
        "#Create a new column:\n",
        "df['Local_Authority'] = df['LSOA name'].str.slice(0, -5)"
      ]
    },
    {
      "cell_type": "markdown",
      "source": [
        "Select only London boroughs (excluding non-London rows from the dataset)."
      ],
      "metadata": {
        "id": "RbxRZCabF94g"
      }
    },
    {
      "cell_type": "code",
      "source": [
        "# List of London boroughs:\n",
        "LB_list = ['Barking and Dagenham', 'Barnet', 'Bexley', 'Brent', 'Bromley','Camden', 'City of London', 'Croydon', 'Ealing', 'Enfield', 'Greenwich', 'Hackney', 'Hammersmith and Fulham', 'Haringey',\n",
        "       'Harrow', 'Havering', 'Hillingdon', 'Hounslow', 'Islington', 'Kensington and Chelsea', 'Kingston upon Thames', 'Lambeth',\n",
        "       'Lewisham','Merton', 'Newham', 'Redbridge', 'Richmond upon Thames', 'Southwark', 'Sutton',\n",
        "       'Tower Hamlets', 'Waltham Forest', 'Wandsworth', 'Westminster']\n",
        "# Filter the dataframe to include only names in the list:\n",
        "df = df[df['Local_Authority'].isin(LB_list)]"
      ],
      "metadata": {
        "id": "er9isSHoF8dP"
      },
      "execution_count": null,
      "outputs": []
    },
    {
      "cell_type": "markdown",
      "source": [],
      "metadata": {
        "id": "ZgNhLHOEa7xP"
      }
    },
    {
      "cell_type": "markdown",
      "source": [
        "# Map selected data\n",
        "With over 70K rows in the dataset, you cannot map every single one - it will just make a big blob of points. You first select, then plot on a map."
      ],
      "metadata": {
        "id": "qSrTmlk5ab8x"
      }
    },
    {
      "cell_type": "markdown",
      "metadata": {
        "id": "21LADbQbG-I6"
      },
      "source": [
        "## Select a crime type to map\n",
        "Select rows with [str.contains()](https://pandas.pydata.org/docs/reference/api/pandas.Series.str.contains.html) using a list of values to include."
      ]
    },
    {
      "cell_type": "code",
      "execution_count": null,
      "metadata": {
        "id": "hFZiUYMGqjzb"
      },
      "outputs": [],
      "source": [
        "# List available crime type values\n",
        "df['Crime type'].unique()"
      ]
    },
    {
      "cell_type": "code",
      "execution_count": null,
      "metadata": {
        "id": "iAnSL3wkqjzc"
      },
      "outputs": [],
      "source": [
        "# Filter by crime type\n",
        "df = df[df['Crime type'].str.contains('theft', case=False)]"
      ]
    },
    {
      "cell_type": "markdown",
      "source": [
        "## Select Local Authority"
      ],
      "metadata": {
        "id": "zIcmeEhHbNGA"
      }
    },
    {
      "cell_type": "code",
      "source": [
        "df = df[df['Local_Authority'].str.contains('Westminster', case=False)]"
      ],
      "metadata": {
        "id": "yGfjb0YZdyeY"
      },
      "execution_count": null,
      "outputs": []
    },
    {
      "cell_type": "markdown",
      "metadata": {
        "id": "Ett1BVrJ-8YP"
      },
      "source": [
        "## Map selection\n",
        "Create and display map with geopandas' `explore()` function."
      ]
    },
    {
      "cell_type": "code",
      "execution_count": null,
      "metadata": {
        "id": "1hVRQvTP_sFL"
      },
      "outputs": [],
      "source": [
        "# Drop rows with no location data\n",
        "df.dropna(subset=['Longitude'], inplace=True)"
      ]
    },
    {
      "cell_type": "code",
      "execution_count": null,
      "metadata": {
        "id": "9il22CX6qjze"
      },
      "outputs": [],
      "source": [
        "# See how many rows of data remain to be mapped\n",
        "df.shape"
      ]
    },
    {
      "cell_type": "code",
      "execution_count": null,
      "metadata": {
        "id": "VdDesxbg-5Yr"
      },
      "outputs": [],
      "source": [
        "# Convert df into a geodataframe\n",
        "gdf = gpd.GeoDataFrame(df, geometry=gpd.points_from_xy(df['Longitude'], df['Latitude']))"
      ]
    },
    {
      "cell_type": "code",
      "execution_count": null,
      "metadata": {
        "id": "B0XHdfa9_jQP"
      },
      "outputs": [],
      "source": [
        "# Set projection\n",
        "gdf = gdf.set_crs(epsg=4326)"
      ]
    },
    {
      "cell_type": "code",
      "source": [
        "# Show map\n",
        "gdf.explore('Crime type', cmap='tab20', tiles=\"CartoDB positron\")"
      ],
      "metadata": {
        "id": "w0bcsHKlbaw3"
      },
      "execution_count": null,
      "outputs": []
    },
    {
      "cell_type": "code",
      "source": [],
      "metadata": {
        "id": "OtI2oL-IcHyY"
      },
      "execution_count": null,
      "outputs": []
    }
  ],
  "metadata": {
    "kernelspec": {
      "display_name": "py310",
      "language": "python",
      "name": "python3"
    },
    "language_info": {
      "codemirror_mode": {
        "name": "ipython",
        "version": 3
      },
      "file_extension": ".py",
      "mimetype": "text/x-python",
      "name": "python",
      "nbconvert_exporter": "python",
      "pygments_lexer": "ipython3",
      "version": "3.10.4"
    },
    "colab": {
      "provenance": [],
      "toc_visible": true,
      "include_colab_link": true
    }
  },
  "nbformat": 4,
  "nbformat_minor": 0
}