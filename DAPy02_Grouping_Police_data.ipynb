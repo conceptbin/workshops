{
  "cells": [
    {
      "cell_type": "markdown",
      "metadata": {
        "id": "view-in-github",
        "colab_type": "text"
      },
      "source": [
        "<a href=\"https://colab.research.google.com/github/conceptbin/workshops/blob/main/DAPy02_Grouping_Police_data.ipynb\" target=\"_parent\"><img src=\"https://colab.research.google.com/assets/colab-badge.svg\" alt=\"Open In Colab\"/></a>"
      ]
    },
    {
      "cell_type": "markdown",
      "metadata": {
        "id": "w0b6PNJvIOBh"
      },
      "source": [
        "# Grouping\n",
        "This notebook demonstrates the power of grouping for exploring a dataset.\n",
        "\n",
        "In this case we look at a download of records of street-level crime from the Metropolitan Police, available at [data.police.uk](https://data.police.uk/)."
      ]
    },
    {
      "cell_type": "code",
      "execution_count": null,
      "metadata": {
        "id": "81SyVivjIOBk"
      },
      "outputs": [],
      "source": [
        "import pandas as pd\n",
        "import seaborn as sns"
      ]
    },
    {
      "cell_type": "markdown",
      "metadata": {
        "id": "TxDOOfwOIOBm"
      },
      "source": [
        "# Load and prepare data\n",
        "Load police dataset: Street-level crime, Metropolitan Police, August 2023."
      ]
    },
    {
      "cell_type": "code",
      "execution_count": null,
      "metadata": {
        "id": "DcKAJFxHIOBm"
      },
      "outputs": [],
      "source": [
        "# File path\n",
        "file = r'https://github.com/conceptbin/DA_Notebooks/raw/master/pandas-intro/data/2023-08-metropolitan-street.csv'\n",
        "# Create dataframe (df)\n",
        "df = pd.read_csv(file)"
      ]
    },
    {
      "cell_type": "markdown",
      "source": [
        "Display the top and tail of the dataframe:"
      ],
      "metadata": {
        "id": "S25p0zhtvq6z"
      }
    },
    {
      "cell_type": "code",
      "source": [
        "df"
      ],
      "metadata": {
        "id": "KGmjoEbavnoE"
      },
      "execution_count": null,
      "outputs": []
    },
    {
      "cell_type": "markdown",
      "source": [
        "Show the `info()` for the dataframe:"
      ],
      "metadata": {
        "id": "nEJrx4QQvzJ1"
      }
    },
    {
      "cell_type": "code",
      "source": [
        "df.info()"
      ],
      "metadata": {
        "id": "KyP3gqIpvxe5"
      },
      "execution_count": null,
      "outputs": []
    },
    {
      "cell_type": "markdown",
      "metadata": {
        "id": "RWODlUa1IOBm"
      },
      "source": [
        "## Add a column\n",
        "Create a Local_Authority column from LSOA_name, to more easily identify crime data by borough."
      ]
    },
    {
      "cell_type": "code",
      "execution_count": null,
      "metadata": {
        "id": "Uo9Me5ylIOBn"
      },
      "outputs": [],
      "source": [
        "#Create a new column:\n",
        "df['Local_Authority'] = df['LSOA name'].str.slice(0, -5)"
      ]
    },
    {
      "cell_type": "markdown",
      "source": [
        "Select only London boroughs (excluding non-London rows from the dataset)."
      ],
      "metadata": {
        "id": "RbxRZCabF94g"
      }
    },
    {
      "cell_type": "code",
      "source": [
        "# List of London boroughs:\n",
        "LB_list = ['Barking and Dagenham', 'Barnet', 'Bexley', 'Brent', 'Bromley','Camden', 'City of London', 'Croydon', 'Ealing', 'Enfield', 'Greenwich', 'Hackney', 'Hammersmith and Fulham', 'Haringey',\n",
        "       'Harrow', 'Havering', 'Hillingdon', 'Hounslow', 'Islington', 'Kensington and Chelsea', 'Kingston upon Thames', 'Lambeth',\n",
        "       'Lewisham','Merton', 'Newham', 'Redbridge', 'Richmond upon Thames', 'Southwark', 'Sutton',\n",
        "       'Tower Hamlets', 'Waltham Forest', 'Wandsworth', 'Westminster']\n",
        "# Filter the dataframe to include only names in the list:\n",
        "df = df[df['Local_Authority'].isin(LB_list)]"
      ],
      "metadata": {
        "id": "er9isSHoF8dP"
      },
      "execution_count": null,
      "outputs": []
    },
    {
      "cell_type": "markdown",
      "source": [
        "Now we have a slightly shorter dataframe, removing any cases from outside the London boroughs."
      ],
      "metadata": {
        "id": "VEBnN5ctva8w"
      }
    },
    {
      "cell_type": "code",
      "source": [
        "# Print the lenght of the dataframe\n",
        "len(df)"
      ],
      "metadata": {
        "id": "FteskZXGvhRq"
      },
      "execution_count": null,
      "outputs": []
    },
    {
      "cell_type": "markdown",
      "metadata": {
        "id": "GsRf38egIOBn"
      },
      "source": [
        "# Group and aggregate\n",
        "This code does two things: We group by Local Authority using `groupby()`, and then we count the total number of incidents for each Local Authority, using the `agg()` function."
      ]
    },
    {
      "cell_type": "code",
      "source": [
        "df_grouped = df.groupby(['Local_Authority'])['Crime type'].agg('count').reset_index()"
      ],
      "metadata": {
        "id": "fyxUFe_0JIzK"
      },
      "execution_count": null,
      "outputs": []
    },
    {
      "cell_type": "code",
      "source": [
        "# Show the new grouped dataframe\n",
        "df_grouped"
      ],
      "metadata": {
        "id": "WmuOVPd1JIwC"
      },
      "execution_count": null,
      "outputs": []
    },
    {
      "cell_type": "markdown",
      "source": [
        "Sort by count of \"Crime type\" in descending order."
      ],
      "metadata": {
        "id": "3-o_tNyNHKvV"
      }
    },
    {
      "cell_type": "code",
      "source": [
        "df_grouped.sort_values(by=['Crime type'], ascending=False, inplace=True)"
      ],
      "metadata": {
        "id": "4bOqh8sfJItc"
      },
      "execution_count": null,
      "outputs": []
    },
    {
      "cell_type": "markdown",
      "source": [
        "Bar plot comparing total count of crimes by borough."
      ],
      "metadata": {
        "id": "9_PmkUucIQYf"
      }
    },
    {
      "cell_type": "code",
      "source": [
        "sns.catplot(data=df_grouped, kind='bar', y='Local_Authority', x= 'Crime type', color='blue')"
      ],
      "metadata": {
        "id": "YRo-R0srHZsd"
      },
      "execution_count": null,
      "outputs": []
    },
    {
      "cell_type": "markdown",
      "source": [
        "Compare two boroughs by crime types."
      ],
      "metadata": {
        "id": "XbNKBwJCw2hd"
      }
    },
    {
      "cell_type": "code",
      "source": [
        "# New grouping by LA, crime type, count unique crime IDs to make sure no duplicates\n",
        "df_group2 = df.groupby(['Local_Authority', 'Crime type'])['Crime ID'].agg('nunique').reset_index()"
      ],
      "metadata": {
        "id": "7UlfD90DxW-C"
      },
      "execution_count": null,
      "outputs": []
    },
    {
      "cell_type": "code",
      "source": [
        "df_group2"
      ],
      "metadata": {
        "id": "FgHVRAalxH6K"
      },
      "execution_count": null,
      "outputs": []
    },
    {
      "cell_type": "markdown",
      "source": [
        "Select names from the \"Local Authority\" column using `str.contains()`."
      ],
      "metadata": {
        "id": "_oGtf6HYXoWC"
      }
    },
    {
      "cell_type": "code",
      "source": [
        "# Make a separate dataframe for plotting, containing only selected Local Authority keywords:\n",
        "selected_LA = df_group2[df_group2['Local_Authority'].str.contains('Westminster|Newham')]\n",
        "# Plot the selected_LA dataframe:\n",
        "sns.catplot(data=selected_LA, kind='bar', y='Local_Authority', x='Crime ID', hue='Crime type')"
      ],
      "metadata": {
        "id": "f_0fCQawHnDh"
      },
      "execution_count": null,
      "outputs": []
    },
    {
      "cell_type": "markdown",
      "source": [
        "Refine the selection, focusing on particular crime types:"
      ],
      "metadata": {
        "id": "cl601X4IYogh"
      }
    },
    {
      "cell_type": "code",
      "source": [
        "# Refine selection by crime type\n",
        "selected_LA = selected_LA[selected_LA['Crime type'].str.contains('theft|robbery|shoplifting', case=False)]\n",
        "# Plot the selected_LA dataframe:\n",
        "sns.catplot(data=selected_LA, kind='bar', y='Local_Authority', x='Crime ID', hue='Crime type')"
      ],
      "metadata": {
        "id": "knrNBzPodyg6"
      },
      "execution_count": null,
      "outputs": []
    },
    {
      "cell_type": "code",
      "source": [],
      "metadata": {
        "id": "yGfjb0YZdyeY"
      },
      "execution_count": null,
      "outputs": []
    }
  ],
  "metadata": {
    "kernelspec": {
      "display_name": "py310",
      "language": "python",
      "name": "python3"
    },
    "language_info": {
      "codemirror_mode": {
        "name": "ipython",
        "version": 3
      },
      "file_extension": ".py",
      "mimetype": "text/x-python",
      "name": "python",
      "nbconvert_exporter": "python",
      "pygments_lexer": "ipython3",
      "version": "3.10.4"
    },
    "colab": {
      "provenance": [],
      "toc_visible": true,
      "include_colab_link": true
    }
  },
  "nbformat": 4,
  "nbformat_minor": 0
}