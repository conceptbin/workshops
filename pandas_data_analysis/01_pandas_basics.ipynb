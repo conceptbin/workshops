{
 "cells": [
  {
   "attachments": {},
   "cell_type": "markdown",
   "metadata": {
    "id": "TjSnuT5uVknz"
   },
   "source": [
    "# Intro to pandas and Seaborn"
   ]
  },
  {
   "cell_type": "code",
   "execution_count": null,
   "metadata": {
    "id": "armO3RNVVYya"
   },
   "outputs": [],
   "source": [
    "# Import libraries\n",
    "import pandas as pd\n",
    "import seaborn as sns"
   ]
  },
  {
   "attachments": {},
   "cell_type": "markdown",
   "metadata": {
    "id": "2tBBkjAANoVl"
   },
   "source": [
    "# 1. Pandas\n",
    "An open source data analysis and manipulation tool, built on top of Python.\n",
    "\n",
    "**References:**\n",
    "\n",
    "[Pandas documentation](https://pandas.pydata.org/docs/). Dry and technical, but authoritative."
   ]
  },
  {
   "attachments": {},
   "cell_type": "markdown",
   "metadata": {
    "id": "i9KEJUw3N90a"
   },
   "source": [
    "## Series\n",
    "Series and DataFrames are the fundamental building blocks (data structures) in pandas.\n",
    "\n",
    "A Series is a single-column list with an index."
   ]
  },
  {
   "cell_type": "code",
   "execution_count": null,
   "metadata": {
    "id": "-toE9jd_NFxH"
   },
   "outputs": [],
   "source": [
    "# Make a series from a list\n",
    "ser = pd.Series([5, 10, 7])"
   ]
  },
  {
   "cell_type": "code",
   "execution_count": null,
   "metadata": {
    "colab": {
     "base_uri": "https://localhost:8080/"
    },
    "id": "PSzDtfdzUDTH",
    "outputId": "a25d5f64-d939-4c58-8dd4-3cebc4e40fb9"
   },
   "outputs": [],
   "source": [
    "ser"
   ]
  },
  {
   "attachments": {},
   "cell_type": "markdown",
   "metadata": {
    "id": "S12bYe-2QCKj"
   },
   "source": [
    "**Task 1:** Add a number to the series.\n",
    "\n",
    "**Task 2:** Make one of the numbers a float (e.g., 7.5). Then run `ser.info()`. What does it do to the data type of the series?"
   ]
  },
  {
   "attachments": {},
   "cell_type": "markdown",
   "metadata": {
    "id": "BE1V-lVzNtHx"
   },
   "source": [
    "## DataFrame\n",
    "A DataFrame is a table, consisting of entries and values. Each entry corresponds to a row and column. Here we declare a dataframe using a dictionary: The keys are the column names, the values are lists of entries."
   ]
  },
  {
   "cell_type": "code",
   "execution_count": null,
   "metadata": {
    "id": "Bh28NG8HMPe0"
   },
   "outputs": [],
   "source": [
    "# Make a dataframe from a dictionary and lists\n",
    "df1 = pd.DataFrame({'Student': ['Bart', 'Lisa', 'Milhouse', 'Sideshow Bob'], 'Score':[5, 10, 7.5, 8.5], 'Hair colour':['Yellow', 'Yellow', 'Blue', 'Red']})"
   ]
  },
  {
   "cell_type": "code",
   "execution_count": null,
   "metadata": {
    "colab": {
     "base_uri": "https://localhost:8080/",
     "height": 175
    },
    "id": "EtBfpiVJ6lhO",
    "outputId": "63f7c6b7-7cb1-44a7-820f-eeba2bae7300"
   },
   "outputs": [],
   "source": [
    "df1"
   ]
  },
  {
   "attachments": {},
   "cell_type": "markdown",
   "metadata": {
    "id": "49TnOwFeOhKV"
   },
   "source": [
    "**Task 1:** Add a student (after Sideshow Bob) and a score to the lists for 'Student' and 'Score'.\n",
    "\n",
    "**Task 2:** Add a new column to the dataframe, titled 'Hair colour' (yellow, yellow, blue and red)."
   ]
  },
  {
   "cell_type": "code",
   "execution_count": null,
   "metadata": {
    "colab": {
     "base_uri": "https://localhost:8080/"
    },
    "id": "nfWN0pOjX3fP",
    "outputId": "af6476e3-3418-4a1b-9466-76a9aa895a7e"
   },
   "outputs": [],
   "source": [
    "df1.info()"
   ]
  },
  {
   "cell_type": "code",
   "execution_count": null,
   "metadata": {
    "colab": {
     "base_uri": "https://localhost:8080/"
    },
    "id": "MHjPW5x_Ylvo",
    "outputId": "93864e16-08d0-41d8-be41-c55f18ded8e6"
   },
   "outputs": [],
   "source": [
    "df1.shape"
   ]
  },
  {
   "attachments": {},
   "cell_type": "markdown",
   "metadata": {
    "id": "qer3ppTN7YrN"
   },
   "source": [
    "### Selecting rows"
   ]
  },
  {
   "cell_type": "code",
   "execution_count": null,
   "metadata": {},
   "outputs": [],
   "source": [
    "# View selection\n",
    "df1[df1['Student'].str.contains('Bart')]"
   ]
  },
  {
   "cell_type": "code",
   "execution_count": null,
   "metadata": {
    "id": "YRyK7Scx6WOM"
   },
   "outputs": [],
   "source": [
    "# Select rows based on conditions, copy to new dataframe\n",
    "df1_name = df1[df1['Student'] == 'Lisa']"
   ]
  },
  {
   "cell_type": "code",
   "execution_count": null,
   "metadata": {
    "colab": {
     "base_uri": "https://localhost:8080/",
     "height": 81
    },
    "id": "hTDmcjLA7M3z",
    "outputId": "60871e5a-86de-46ed-8c00-8e0176140277"
   },
   "outputs": [],
   "source": [
    "df1_name"
   ]
  },
  {
   "cell_type": "code",
   "execution_count": null,
   "metadata": {
    "id": "_eZPUZWZ6WFx"
   },
   "outputs": [],
   "source": [
    "# Select rows with query\n",
    "df1_query = df1.query('Score < 8')"
   ]
  },
  {
   "cell_type": "code",
   "execution_count": null,
   "metadata": {
    "colab": {
     "base_uri": "https://localhost:8080/",
     "height": 112
    },
    "id": "uGCsNBdk6V-e",
    "outputId": "35784c40-d6c6-4ac5-e95c-0a09b83ca268"
   },
   "outputs": [],
   "source": [
    "df1_query"
   ]
  },
  {
   "attachments": {},
   "cell_type": "markdown",
   "metadata": {
    "id": "7LuJEEb47zgk"
   },
   "source": [
    "**Task:** In a new dataframe (df_hair), select rows based on hair colour (the column you added above)."
   ]
  },
  {
   "cell_type": "code",
   "execution_count": null,
   "metadata": {
    "id": "r4isus1WZluY"
   },
   "outputs": [],
   "source": [
    "df_hair = df1[df1['Hair colour'].str.contains('Red')] # Selected using str.contains()"
   ]
  },
  {
   "cell_type": "code",
   "execution_count": null,
   "metadata": {
    "colab": {
     "base_uri": "https://localhost:8080/",
     "height": 81
    },
    "id": "Wl_Rm3PrZlgQ",
    "outputId": "9bd5cae5-39fa-4182-e0b8-97d16971d0af"
   },
   "outputs": [],
   "source": [
    "df_hair"
   ]
  },
  {
   "attachments": {},
   "cell_type": "markdown",
   "metadata": {
    "id": "NTFVh8OtQW3_"
   },
   "source": [
    "## Read data from file\n",
    "The functions `read_csv()` and `read_excel()` are the most common methods for loading data from files. Pandas can read a range of data formats, but we will focus on Excel and CSV in this session."
   ]
  },
  {
   "cell_type": "code",
   "execution_count": null,
   "metadata": {
    "id": "Z9kR37Xjx-w8"
   },
   "outputs": [],
   "source": [
    "# Load sample data\n",
    "data_path = r'https://github.com/conceptbin/workshops/raw/main/pandas_data_analysis/data/Workbook%20(Working%20with%20Excel).xlsx'\n",
    "df2 = pd.read_excel(data_path, sheet_name=0, header=1)"
   ]
  },
  {
   "attachments": {},
   "cell_type": "markdown",
   "metadata": {
    "id": "67KkaBRKQreD"
   },
   "source": [
    "**Try:** Change the header to 0, see what happens to the dataframe."
   ]
  },
  {
   "cell_type": "code",
   "execution_count": null,
   "metadata": {
    "colab": {
     "base_uri": "https://localhost:8080/",
     "height": 426
    },
    "id": "_hVDbpYHIlzQ",
    "outputId": "11826909-4170-42f3-fa58-a3019e26fc50"
   },
   "outputs": [],
   "source": [
    "df2"
   ]
  },
  {
   "attachments": {},
   "cell_type": "markdown",
   "metadata": {
    "id": "Vec4XJXN_pUb"
   },
   "source": [
    "Pandas offers various ways to summarise numerical data:"
   ]
  },
  {
   "cell_type": "code",
   "execution_count": null,
   "metadata": {
    "colab": {
     "base_uri": "https://localhost:8080/"
    },
    "id": "ScsSjOPO_hFd",
    "outputId": "a8ee1bb7-41d8-46b0-fdd7-978eb9c0b481"
   },
   "outputs": [],
   "source": [
    "df2['sales (£)'].sum() # Add up the sales column"
   ]
  },
  {
   "attachments": {},
   "cell_type": "markdown",
   "metadata": {
    "id": "NNumMqoF_2S7"
   },
   "source": [
    "**Task:** Summarise the sales using other functions: mean(), median(), min(), max()."
   ]
  },
  {
   "cell_type": "code",
   "execution_count": null,
   "metadata": {
    "colab": {
     "base_uri": "https://localhost:8080/"
    },
    "id": "BmlJUz_5_1jY",
    "outputId": "2c9c3fe2-215d-4a9c-b13a-67c4a884c01c"
   },
   "outputs": [],
   "source": [
    "# Copy the code in the previous cell and edit it."
   ]
  },
  {
   "attachments": {},
   "cell_type": "markdown",
   "metadata": {},
   "source": [
    "The `describe()` function can generate descriptive statistics for a specific column or the entire dataframe."
   ]
  },
  {
   "cell_type": "code",
   "execution_count": null,
   "metadata": {},
   "outputs": [],
   "source": [
    "df2['sales (£)'].describe().round(2)"
   ]
  },
  {
   "attachments": {},
   "cell_type": "markdown",
   "metadata": {
    "id": "dZqFUSkRRZwF"
   },
   "source": [
    "# 2. Plotting data\n",
    "Seaborn is a visualisation library for Python, built on top of Matplotlib.\n",
    "\n",
    "[Seaborn User Guide and tutorial](https://seaborn.pydata.org/tutorial.html): Accessible introduction to Seaborn's functions.\n",
    "\n",
    "[Data Visualization](https://www.kaggle.com/learn/data-visualization) tutorial on Kaggle, goes into detail with examples for Seaborn data viz."
   ]
  },
  {
   "attachments": {},
   "cell_type": "markdown",
   "metadata": {
    "id": "GFj2UP22U4-R"
   },
   "source": [
    "## Bar plots\n",
    "Here are the two dataframes visualised in a simple bar plot using the `barplot()` function."
   ]
  },
  {
   "attachments": {},
   "cell_type": "markdown",
   "metadata": {
    "id": "jYRcDJxCNCDN"
   },
   "source": [
    "### Student and score"
   ]
  },
  {
   "cell_type": "code",
   "execution_count": null,
   "metadata": {
    "colab": {
     "base_uri": "https://localhost:8080/",
     "height": 296
    },
    "id": "xyGqxcoKWYDO",
    "outputId": "4d50d0ab-2d05-4378-9e67-27bfd70e42c2"
   },
   "outputs": [],
   "source": [
    "sns.barplot(data=df1, x=\"Student\", y=\"Score\", color=\"blue\")"
   ]
  },
  {
   "attachments": {},
   "cell_type": "markdown",
   "metadata": {
    "id": "z3LsjMIgNF-X"
   },
   "source": [
    "### Sales by month\n",
    "Bar plot of sales by month."
   ]
  },
  {
   "cell_type": "code",
   "execution_count": null,
   "metadata": {
    "colab": {
     "base_uri": "https://localhost:8080/",
     "height": 296
    },
    "id": "N7ne4Iv9ReOt",
    "outputId": "cfddad8e-9a51-4b43-a68b-70b22cedd2a8"
   },
   "outputs": [],
   "source": [
    "sns.barplot(data=df2, x=\"Month\", y=\"sales (£)\")"
   ]
  },
  {
   "attachments": {},
   "cell_type": "markdown",
   "metadata": {},
   "source": [
    "Same barplot, now all bars in one colour:"
   ]
  },
  {
   "cell_type": "code",
   "execution_count": null,
   "metadata": {
    "colab": {
     "base_uri": "https://localhost:8080/",
     "height": 296
    },
    "id": "LiBeElHRVQCG",
    "outputId": "7c6dffba-64bb-41ba-b112-3420467f274a"
   },
   "outputs": [],
   "source": [
    "sns.barplot(data=df2, x=\"Month\", y=\"sales (£)\", color=\"blue\", saturation=0.4)"
   ]
  },
  {
   "attachments": {},
   "cell_type": "markdown",
   "metadata": {
    "id": "vXEmTkYyNUhB"
   },
   "source": [
    "Histogram showing distribution of values across the dataset, with the `displot()` function."
   ]
  },
  {
   "cell_type": "code",
   "execution_count": null,
   "metadata": {
    "colab": {
     "base_uri": "https://localhost:8080/",
     "height": 386
    },
    "id": "nXdp_q99VUV5",
    "outputId": "ffa77dae-0d50-4ba5-fd18-75d5dfa85492"
   },
   "outputs": [],
   "source": [
    "# Histogram of sales-column:\n",
    "sns.displot(df2, x=\"sales (£)\")"
   ]
  },
  {
   "cell_type": "code",
   "execution_count": null,
   "metadata": {
    "colab": {
     "base_uri": "https://localhost:8080/",
     "height": 386
    },
    "id": "jYi41GJMBCeB",
    "outputId": "35a55378-fee1-46ae-affe-b6df021fbb0f"
   },
   "outputs": [],
   "source": [
    "# Same histogram, with more bins (ranges):\n",
    "sns.displot(df2, x=\"sales (£)\", bins=10)"
   ]
  },
  {
   "cell_type": "code",
   "execution_count": null,
   "metadata": {
    "colab": {
     "base_uri": "https://localhost:8080/",
     "height": 386
    },
    "id": "L23hpdiGCUWB",
    "outputId": "9b5aa4af-9775-4298-dc44-757b386ce7dc"
   },
   "outputs": [],
   "source": [
    "# Again, same histogram, with a gap between columns\n",
    "sns.displot(df2, x=\"sales (£)\", bins=10, shrink=.8)"
   ]
  },
  {
   "cell_type": "code",
   "execution_count": null,
   "metadata": {},
   "outputs": [],
   "source": []
  }
 ],
 "metadata": {
  "colab": {
   "collapsed_sections": [],
   "provenance": [],
   "toc_visible": true
  },
  "kernelspec": {
   "display_name": "Python 3",
   "language": "python",
   "name": "python3"
  },
  "language_info": {
   "codemirror_mode": {
    "name": "ipython",
    "version": 3
   },
   "file_extension": ".py",
   "mimetype": "text/x-python",
   "name": "python",
   "nbconvert_exporter": "python",
   "pygments_lexer": "ipython3",
   "version": "3.9.5"
  },
  "vscode": {
   "interpreter": {
    "hash": "c97e556b2123b92f5d28ca63fa8445826cb82f9f2ab925961a94fd4b4dde06e6"
   }
  }
 },
 "nbformat": 4,
 "nbformat_minor": 1
}
