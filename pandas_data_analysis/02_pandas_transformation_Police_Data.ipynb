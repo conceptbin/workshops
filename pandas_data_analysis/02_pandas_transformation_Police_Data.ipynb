{
 "cells": [
  {
   "attachments": {},
   "cell_type": "markdown",
   "metadata": {
    "id": "aSgjAeSIrjy1"
   },
   "source": [
    "# Exploring, filtering, grouping and viewing data in [pandas](https://pandas.pydata.org/)\n",
    "Demonstration notebook, using UK Police data on street-level crime in the London Metropolitan region, from https://data.police.uk/\n"
   ]
  },
  {
   "cell_type": "code",
   "execution_count": null,
   "metadata": {
    "id": "ik10e7DErb9z"
   },
   "outputs": [],
   "source": [
    "import pandas as pd\n",
    "import seaborn as sns\n",
    "#Set max row and max column for display in Jupyter Notebook\n",
    "pd.set_option('display.max_row', 150)\n",
    "pd.set_option('display.max_columns', 20)"
   ]
  },
  {
   "cell_type": "code",
   "execution_count": null,
   "metadata": {
    "id": "nKdI4OshGebs"
   },
   "outputs": [],
   "source": [
    "# Set Seaborn styling parameters for plots\n",
    "sns.set(rc={'figure.figsize':(15,10)}) # Set figure size for all plots\n",
    "sns.set_context(\"notebook\") # Set how plots are displayed"
   ]
  },
  {
   "attachments": {},
   "cell_type": "markdown",
   "metadata": {
    "id": "6j3aCr3JxWaB"
   },
   "source": [
    "# Read and inspect data\n",
    "The sample data here is Metropolitan Police cases, in CSV format. We use `read_csv()` to load the file."
   ]
  },
  {
   "cell_type": "code",
   "execution_count": null,
   "metadata": {
    "id": "fhfnFG98rzV8"
   },
   "outputs": [],
   "source": [
    "# URL of sample data file on GitHub\n",
    "file = r'https://github.com/conceptbin/workshops/raw/main/pandas_data_analysis/data/2023-03-metropolitan-street.csv'\n",
    "# Create dataframe (df)\n",
    "df = pd.read_csv(file)"
   ]
  },
  {
   "attachments": {},
   "cell_type": "markdown",
   "metadata": {
    "id": "Z-rl9Fdl7vWl"
   },
   "source": [
    "## Dimensions of the dataframe"
   ]
  },
  {
   "cell_type": "code",
   "execution_count": null,
   "metadata": {
    "colab": {
     "base_uri": "https://localhost:8080/",
     "height": 565
    },
    "id": "PjiyaSjfm9ZP",
    "outputId": "7664c1b2-4848-427e-f36d-1acb10da2ca8"
   },
   "outputs": [],
   "source": [
    "# Show the top rows\n",
    "df.head()"
   ]
  },
  {
   "cell_type": "code",
   "execution_count": null,
   "metadata": {
    "colab": {
     "base_uri": "https://localhost:8080/"
    },
    "id": "f826k4xArzRi",
    "outputId": "c7e2c763-8883-489b-c501-7e8ec4c4f1af"
   },
   "outputs": [],
   "source": [
    "# Size of the dataframe (count of rows and columns):\n",
    "df.shape"
   ]
  },
  {
   "attachments": {},
   "cell_type": "markdown",
   "metadata": {
    "id": "3gcEKVNBIOjz"
   },
   "source": [
    "## Handling empty values with isna() and dropna()"
   ]
  },
  {
   "cell_type": "code",
   "execution_count": null,
   "metadata": {
    "colab": {
     "base_uri": "https://localhost:8080/"
    },
    "id": "Bgisgy6H33MU",
    "outputId": "79f38e78-f981-4014-d617-c3d0380c20a1"
   },
   "outputs": [],
   "source": [
    "# Summarise the empty values in df by column\n",
    "df.isna().sum()"
   ]
  },
  {
   "attachments": {},
   "cell_type": "markdown",
   "metadata": {},
   "source": [
    "As we are interested in where incidents took place, we can remove all rows with blanks (NaN values) in the 'LSOA code' column."
   ]
  },
  {
   "cell_type": "code",
   "execution_count": null,
   "metadata": {
    "id": "GXcjktPrlVcs"
   },
   "outputs": [],
   "source": [
    "# Remove rows with empty values (NaN) in the 'LSOA name' column:\n",
    "df.dropna(subset=['LSOA code'], inplace=True)"
   ]
  },
  {
   "cell_type": "code",
   "execution_count": null,
   "metadata": {
    "colab": {
     "base_uri": "https://localhost:8080/"
    },
    "id": "YhNeAsRw_Pd6",
    "outputId": "76051d2d-7fab-427d-f8ce-303e2ef85009"
   },
   "outputs": [],
   "source": [
    "#Check if the NaN values have been dropped from df\n",
    "df.isna().sum()"
   ]
  },
  {
   "cell_type": "code",
   "execution_count": null,
   "metadata": {
    "colab": {
     "base_uri": "https://localhost:8080/"
    },
    "id": "o2QeqBxAoOTE",
    "outputId": "c9e3ff9f-aa06-48c2-d950-80edbacfa535"
   },
   "outputs": [],
   "source": [
    "df.info()"
   ]
  },
  {
   "attachments": {},
   "cell_type": "markdown",
   "metadata": {
    "id": "nxG1zDyj3P9k"
   },
   "source": [
    "## Show head, tail or slice\n",
    "`df.head()`, last rows:` df.tail()`. Show slice by index number: `df[5:10]` (shows rows 5-10). \n",
    "\n",
    "For large dataframes, if you just run a cell with the name of the dataframe, it will display the head and tail, omitting the middle."
   ]
  },
  {
   "cell_type": "code",
   "execution_count": null,
   "metadata": {
    "colab": {
     "base_uri": "https://localhost:8080/",
     "height": 565
    },
    "id": "HmTNNWlenCiW",
    "outputId": "d9a24446-5ee4-426f-db23-b5275cea22e5"
   },
   "outputs": [],
   "source": [
    "df.head()"
   ]
  },
  {
   "cell_type": "code",
   "execution_count": null,
   "metadata": {
    "colab": {
     "base_uri": "https://localhost:8080/",
     "height": 513
    },
    "id": "5_lPtnI1cfbc",
    "outputId": "12f65b7b-876d-4745-f609-466663ca9dd8"
   },
   "outputs": [],
   "source": [
    "df.tail()"
   ]
  },
  {
   "cell_type": "code",
   "execution_count": null,
   "metadata": {
    "colab": {
     "base_uri": "https://localhost:8080/",
     "height": 565
    },
    "id": "aKY00vzj0iS9",
    "outputId": "cb0fb46a-87b3-40c2-f7d6-57d83cfc8641"
   },
   "outputs": [],
   "source": [
    "#Show a slice of the rows by index\n",
    "df[200:205]"
   ]
  },
  {
   "attachments": {},
   "cell_type": "markdown",
   "metadata": {
    "id": "oQ3kKper9KIw"
   },
   "source": [
    "## value_counts()\n",
    "For categorical data, show the number of occurrences. In this case, number of incidents for each 'Crime type' category:"
   ]
  },
  {
   "cell_type": "code",
   "execution_count": null,
   "metadata": {
    "colab": {
     "base_uri": "https://localhost:8080/"
    },
    "id": "4kya96uV675h",
    "outputId": "5080e79f-2a7a-4f41-dd38-6dd7f352f902"
   },
   "outputs": [],
   "source": [
    "df['Crime type'].value_counts()"
   ]
  },
  {
   "attachments": {},
   "cell_type": "markdown",
   "metadata": {
    "id": "UX8c8XgyEZef"
   },
   "source": [
    "## info()"
   ]
  },
  {
   "cell_type": "code",
   "execution_count": null,
   "metadata": {
    "colab": {
     "base_uri": "https://localhost:8080/"
    },
    "id": "wfy87Ry9ETeX",
    "outputId": "260eb4a2-8084-46f3-f1e2-3490ac537a7a"
   },
   "outputs": [],
   "source": [
    "df.info()"
   ]
  },
  {
   "attachments": {},
   "cell_type": "markdown",
   "metadata": {
    "id": "Ky4vgUY9Gyt-"
   },
   "source": [
    "# Selecting and filtering data"
   ]
  },
  {
   "attachments": {},
   "cell_type": "markdown",
   "metadata": {},
   "source": [
    "Select only columns containing categorical data ('object' type) with `select_dtypes()` and summarise with `describe()`"
   ]
  },
  {
   "cell_type": "code",
   "execution_count": null,
   "metadata": {},
   "outputs": [],
   "source": [
    "(df.select_dtypes(include=['object'])).describe()"
   ]
  },
  {
   "attachments": {},
   "cell_type": "markdown",
   "metadata": {
    "id": "1bDFjquXUBny"
   },
   "source": [
    "## Slice string\n",
    "Create a new column with the Borough name, so that we can select rows by borough. The `slice()` function returns a defined segment of the text (or *string*) in the \"LSOA name\" column."
   ]
  },
  {
   "cell_type": "code",
   "execution_count": null,
   "metadata": {
    "id": "_OOZW_Ej9Gw7"
   },
   "outputs": [],
   "source": [
    "#Create a Borough-column:\n",
    "df['Borough'] = df['LSOA name'].str.slice(0, -5)"
   ]
  },
  {
   "attachments": {},
   "cell_type": "markdown",
   "metadata": {
    "id": "zOLIQSdtiOg2"
   },
   "source": [
    "## List unique values by column"
   ]
  },
  {
   "cell_type": "code",
   "execution_count": null,
   "metadata": {
    "colab": {
     "base_uri": "https://localhost:8080/"
    },
    "id": "upx4BRlWB509",
    "outputId": "4ff7b81a-1005-466c-958c-93c6d887cb04"
   },
   "outputs": [],
   "source": [
    "df['Borough'].unique()"
   ]
  },
  {
   "attachments": {},
   "cell_type": "markdown",
   "metadata": {
    "id": "zdBhRo-DCPPc"
   },
   "source": [
    "Now that we know that the dataset includes incidents that took place outside of London, let's select only the London Boroughs in the dataset (just as we would use a filter in Excel)."
   ]
  },
  {
   "attachments": {},
   "cell_type": "markdown",
   "metadata": {
    "id": "NLAHvaNsHX1v"
   },
   "source": [
    "## Select with contains()\n",
    "Select with a keyword. Good for single-keyword filtering, or stringing conditions together with & or | ('or')"
   ]
  },
  {
   "cell_type": "code",
   "execution_count": null,
   "metadata": {
    "id": "DvFhjMbAHdYP"
   },
   "outputs": [],
   "source": [
    "#Create separate dataframe for selected borough using part of the name\n",
    "df_select = df[df['LSOA name'].str.contains('Leeds')]"
   ]
  },
  {
   "cell_type": "code",
   "execution_count": null,
   "metadata": {},
   "outputs": [],
   "source": [
    "df_select"
   ]
  },
  {
   "cell_type": "code",
   "execution_count": null,
   "metadata": {
    "colab": {
     "base_uri": "https://localhost:8080/"
    },
    "id": "QeRZZbr-IZkT",
    "outputId": "673b7b33-10a5-49a1-cea0-de955ac6594d"
   },
   "outputs": [],
   "source": [
    "#Check the shape of df_select. This shows us how many cases (rows) the borough has\n",
    "df_select.shape"
   ]
  },
  {
   "attachments": {},
   "cell_type": "markdown",
   "metadata": {
    "id": "21LADbQbG-I6"
   },
   "source": [
    "## Select with isin()\n",
    "Select rows using a list of values."
   ]
  },
  {
   "cell_type": "code",
   "execution_count": null,
   "metadata": {
    "id": "6tpzkqdnCeaJ"
   },
   "outputs": [],
   "source": [
    "#List of London Boroughs, plus City of London\n",
    "LB_list = ['Barking and Dagenham', 'Barnet', 'Bexley', 'Brent', 'Bromley','Camden', 'City of London', 'Croydon', 'Ealing', 'Enfield', 'Greenwich', 'Hackney', 'Hammersmith and Fulham', 'Haringey',\n",
    "       'Harrow', 'Havering', 'Hillingdon', 'Hounslow', 'Islington', 'Kensington and Chelsea', 'Kingston upon Thames', 'Lambeth',\n",
    "       'Lewisham','Merton', 'Newham', 'Redbridge', 'Richmond upon Thames', 'Southwark', 'Sutton',\n",
    "       'Tower Hamlets', 'Waltham Forest', 'Wandsworth', 'Westminster']\n",
    "# Filter the dataframe to include only names in the list:\n",
    "df = df[df['Borough'].isin(LB_list)]"
   ]
  },
  {
   "cell_type": "code",
   "execution_count": null,
   "metadata": {
    "colab": {
     "base_uri": "https://localhost:8080/"
    },
    "id": "eKcivs-kFP6H",
    "outputId": "0df980d8-c953-4afe-e6dd-86d362db367a"
   },
   "outputs": [],
   "source": [
    "#Check which Boroughs are left in the df now:\n",
    "df['Borough'].unique()"
   ]
  },
  {
   "cell_type": "code",
   "execution_count": null,
   "metadata": {},
   "outputs": [],
   "source": [
    "len(df)"
   ]
  },
  {
   "attachments": {},
   "cell_type": "markdown",
   "metadata": {
    "id": "C3vYq-75I5bD"
   },
   "source": [
    "# Group and aggregate\n",
    "Functions: `groupby()`, `agg()`."
   ]
  },
  {
   "attachments": {},
   "cell_type": "markdown",
   "metadata": {
    "id": "d6F-TkhAJBmB"
   },
   "source": [
    "Let's compare the boroughs by how many incidents are recorded for each."
   ]
  },
  {
   "cell_type": "code",
   "execution_count": null,
   "metadata": {
    "colab": {
     "base_uri": "https://localhost:8080/"
    },
    "id": "Gmdvcg58v3ij",
    "outputId": "27353245-fb01-49cb-af35-e2e1f4e87170"
   },
   "outputs": [],
   "source": [
    "df.keys() # Same as columns() above."
   ]
  },
  {
   "attachments": {},
   "cell_type": "markdown",
   "metadata": {
    "id": "_PHgmlJ-dLwa"
   },
   "source": [
    "## groupby()\n",
    "Which borough has the most crime? We group the data by the \"Borough\" column, and sum up the total number of cases."
   ]
  },
  {
   "cell_type": "code",
   "execution_count": null,
   "metadata": {
    "id": "-4zCqgXautIP"
   },
   "outputs": [],
   "source": [
    "# Group by Borough, count total number of incidents, sort from highest to lowest\n",
    "df_grouped = df.groupby(['Borough'])['Crime type'].agg('count').reset_index().sort_values(by=['Crime type'], ascending=False)"
   ]
  },
  {
   "cell_type": "code",
   "execution_count": null,
   "metadata": {
    "colab": {
     "base_uri": "https://localhost:8080/",
     "height": 1000
    },
    "id": "CZALiteKvpf0",
    "outputId": "89c6999d-f30c-46c6-f05b-5820ac58df3e"
   },
   "outputs": [],
   "source": [
    "# Show first 10 rows of grouped dataframe\n",
    "df_grouped"
   ]
  },
  {
   "attachments": {},
   "cell_type": "markdown",
   "metadata": {
    "id": "YOzUUCLlGbWB"
   },
   "source": [
    "**Task:** Can this data be grouped differently? Let's try it in a separate dataframe (df_grouped2)."
   ]
  },
  {
   "cell_type": "code",
   "execution_count": null,
   "metadata": {},
   "outputs": [],
   "source": [
    "df.keys()"
   ]
  },
  {
   "cell_type": "code",
   "execution_count": null,
   "metadata": {},
   "outputs": [],
   "source": [
    "# Another grouping, by crime type, borough and using \"LSOA code\" for counting the number of instances.\n",
    "df_grouped2 = df.groupby(['Crime type', 'Borough'])['LSOA code'].agg('count').reset_index().sort_values(by=['Borough'], ascending=False)\n",
    "df_grouped2 # display dataframe"
   ]
  },
  {
   "cell_type": "code",
   "execution_count": null,
   "metadata": {},
   "outputs": [],
   "source": [
    "# Here's a selected view showing bicycle thefts by borough, sorted in descending order by frequency of cases\n",
    "(df_grouped2[df_grouped2['Crime type'].str.contains('bicycle', case=False)]).sort_values(by='LSOA code', ascending=False)"
   ]
  },
  {
   "attachments": {},
   "cell_type": "markdown",
   "metadata": {
    "id": "sF_3q5bl8IG5"
   },
   "source": [
    "### Simple bar chart comparing the number of cases by borough."
   ]
  },
  {
   "cell_type": "code",
   "execution_count": null,
   "metadata": {
    "colab": {
     "base_uri": "https://localhost:8080/",
     "height": 565
    },
    "id": "VdjsKTfyfBFj",
    "outputId": "943d0d67-360a-4924-a90c-42bb4b3758e8"
   },
   "outputs": [],
   "source": [
    "sns.barplot(data=df_grouped, x=\"Crime type\", y=\"Borough\")"
   ]
  },
  {
   "attachments": {},
   "cell_type": "markdown",
   "metadata": {
    "id": "8r8nASb6xmfN"
   },
   "source": [
    "## Crosstab\n",
    "Compare data across categories with `crosstab()`. A a cross-tabulation table shows the frequency with which certain groups of data appear. \n",
    "\n",
    "The Practical Business Python blog has a good summary of Pandas' crosstab function: [Pandas Crosstab Explained](https://pbpython.com/pandas-crosstab.html)"
   ]
  },
  {
   "attachments": {},
   "cell_type": "markdown",
   "metadata": {
    "id": "c6DhgRlJGZfV"
   },
   "source": [
    "### Simple crosstab\n",
    "Crime types broken down by Borough."
   ]
  },
  {
   "cell_type": "code",
   "execution_count": null,
   "metadata": {
    "id": "z6FaxWa3wtp6"
   },
   "outputs": [],
   "source": [
    "df_crossed = pd.crosstab(df['Borough'], df['Crime type']).sort_values(by=['Borough'], ascending=True)"
   ]
  },
  {
   "cell_type": "code",
   "execution_count": null,
   "metadata": {},
   "outputs": [],
   "source": [
    "df_crossed"
   ]
  },
  {
   "attachments": {},
   "cell_type": "markdown",
   "metadata": {
    "id": "GNwpyBz9tGHM"
   },
   "source": [
    "#### Heatmap of crosstab\n",
    "The Seaborn `heatmap()` function displays the table as a heatmap."
   ]
  },
  {
   "cell_type": "code",
   "execution_count": null,
   "metadata": {
    "colab": {
     "base_uri": "https://localhost:8080/",
     "height": 742
    },
    "id": "UMq_d-owroMh",
    "outputId": "d6401a69-a711-4145-bb4c-a52daccd0694"
   },
   "outputs": [],
   "source": [
    "sns.heatmap(df_crossed)"
   ]
  },
  {
   "attachments": {},
   "cell_type": "markdown",
   "metadata": {
    "id": "DYsbBRb2jkRl"
   },
   "source": [
    "**Task:** Would it make sense to show only specific columns? Which ones?"
   ]
  },
  {
   "attachments": {},
   "cell_type": "markdown",
   "metadata": {
    "id": "gGN0rA5vtDYt"
   },
   "source": [
    "#### Histogram of selected crime type\n",
    "Shows distribution by crime category."
   ]
  },
  {
   "cell_type": "code",
   "execution_count": null,
   "metadata": {
    "colab": {
     "base_uri": "https://localhost:8080/",
     "height": 383
    },
    "id": "_8sG3koPqIDg",
    "outputId": "8d8ffc4c-f245-45c3-d3d2-ade1185085f3"
   },
   "outputs": [],
   "source": [
    "sns.displot(df_crossed, x=\"Violence and sexual offences\")"
   ]
  },
  {
   "attachments": {},
   "cell_type": "markdown",
   "metadata": {},
   "source": [
    "#### Histogram of multiple categories\n",
    "Here we select multiple columns and instruct Seaborn to display the multiple categories as \"stack\"."
   ]
  },
  {
   "cell_type": "code",
   "execution_count": null,
   "metadata": {
    "colab": {
     "base_uri": "https://localhost:8080/",
     "height": 383
    },
    "id": "GZrLMlBOtsv7",
    "outputId": "d6ad424c-874e-4d5c-ed86-dd87ea2b9f4f"
   },
   "outputs": [],
   "source": [
    "sns.displot(\n",
    "    df_crossed[['Anti-social behaviour','Other theft', 'Violence and sexual offences']],\n",
    "    multiple=\"stack\"\n",
    "    )"
   ]
  },
  {
   "attachments": {},
   "cell_type": "markdown",
   "metadata": {},
   "source": [
    "#### Compare frequency of selected crime category across boroughs\n",
    "First we transform the crosstab dataframe (reindex, sort), and then plot the result:"
   ]
  },
  {
   "cell_type": "code",
   "execution_count": null,
   "metadata": {},
   "outputs": [],
   "source": [
    "df_crossed.keys()"
   ]
  },
  {
   "cell_type": "code",
   "execution_count": null,
   "metadata": {},
   "outputs": [],
   "source": [
    "# Transformation:\n",
    "# Reset the index for df_crossed to flatten the dataframe\n",
    "df_crossed.reset_index(inplace=True)\n",
    "# Name of category to compare (allows us to change category quickly)\n",
    "crime_category = \"Theft from the person\"\n",
    "# Sort the dataframe by the selected category\n",
    "df_crossed.sort_values(by=[f'{crime_category}'], ascending=False, inplace=True)"
   ]
  },
  {
   "attachments": {},
   "cell_type": "markdown",
   "metadata": {},
   "source": [
    "Here's the head() showing the top 5 rows for the selected columns (Borough, crime_category):"
   ]
  },
  {
   "cell_type": "code",
   "execution_count": null,
   "metadata": {},
   "outputs": [],
   "source": [
    "df_crossed[['Borough', f'{crime_category}']].head()"
   ]
  },
  {
   "cell_type": "code",
   "execution_count": null,
   "metadata": {},
   "outputs": [],
   "source": [
    "# Display bar plot:\n",
    "sns.barplot(data=df_crossed, x=f\"{crime_category}\", y=\"Borough\")"
   ]
  },
  {
   "attachments": {},
   "cell_type": "markdown",
   "metadata": {},
   "source": [
    "**Task:** Change the crime_cateogory variable above and run the cells again to see how the plot changes."
   ]
  },
  {
   "attachments": {},
   "cell_type": "markdown",
   "metadata": {
    "id": "wgyXIIOCGb7F"
   },
   "source": [
    "### Crosstab with margins\n",
    "The `margins` parameter adds a row at the bottom and column at the end summarising each. The name can be specified with `margins_name`."
   ]
  },
  {
   "cell_type": "code",
   "execution_count": null,
   "metadata": {
    "id": "l1W4NxF0gkMv"
   },
   "outputs": [],
   "source": [
    "df_crossed_margins = pd.crosstab(df['Borough'], df['Crime type'], margins=True, margins_name='Crimes total').reset_index()"
   ]
  },
  {
   "cell_type": "code",
   "execution_count": null,
   "metadata": {
    "colab": {
     "base_uri": "https://localhost:8080/",
     "height": 1000
    },
    "id": "LShucA8lgsyV",
    "outputId": "b73e06eb-95a7-457a-8363-984e9b2044cc"
   },
   "outputs": [],
   "source": [
    "df_crossed_margins"
   ]
  },
  {
   "attachments": {},
   "cell_type": "markdown",
   "metadata": {
    "id": "TYr8TFX1HXTj"
   },
   "source": [
    "### Normalise\n",
    "We can instruct `crosstab()` to show proportions, rather than absolute numbers with the `normalize` parameter."
   ]
  },
  {
   "cell_type": "code",
   "execution_count": null,
   "metadata": {
    "id": "YI_vR4FQHv-w"
   },
   "outputs": [],
   "source": [
    "# Crosstabl normalised by column, rounding numbers to 2 decimal places\n",
    "df_cross_pct_cols = pd.crosstab(df['Borough'], df['Crime type'], normalize='columns').round(2)"
   ]
  },
  {
   "cell_type": "code",
   "execution_count": null,
   "metadata": {},
   "outputs": [],
   "source": [
    "df_cross_pct_cols"
   ]
  },
  {
   "cell_type": "code",
   "execution_count": null,
   "metadata": {
    "id": "Nt7wkb-IHvkN"
   },
   "outputs": [],
   "source": [
    "# Normalised by rows\n",
    "df_cross_pct_rows = pd.crosstab(df['Borough'], df['Crime type'], normalize='index').round(2)"
   ]
  },
  {
   "cell_type": "code",
   "execution_count": null,
   "metadata": {
    "colab": {
     "base_uri": "https://localhost:8080/",
     "height": 1000
    },
    "id": "43qhyqFtyPK5",
    "outputId": "66a63a4d-4069-4a04-aae0-35bdec495118"
   },
   "outputs": [],
   "source": [
    "df_cross_pct_rows"
   ]
  },
  {
   "attachments": {},
   "cell_type": "markdown",
   "metadata": {
    "id": "IyvHIQTWzgWw"
   },
   "source": [
    "#### Histogram of normalised crime types"
   ]
  },
  {
   "cell_type": "code",
   "execution_count": null,
   "metadata": {
    "colab": {
     "base_uri": "https://localhost:8080/",
     "height": 383
    },
    "id": "V6I8GYw_yIhV",
    "outputId": "e9265b9c-ec2f-4b59-a270-2c55c3711b3e"
   },
   "outputs": [],
   "source": [
    "sns.displot(df_cross_pct_rows[['Other theft', 'Violence and sexual offences']], element=\"step\")"
   ]
  },
  {
   "attachments": {},
   "cell_type": "markdown",
   "metadata": {
    "id": "XdNaznwWnSRE"
   },
   "source": [
    "#### Proportion of crime types by Borough\n",
    "Heatmap of most frequent crime types for each borough. This enables us to identify \"hot spots\" within the dataset. The colour palette can be adjusted with the `cmap` parameter (see [Seaborn colour palettes documentation](https://seaborn.pydata.org/tutorial/color_palettes.html))."
   ]
  },
  {
   "cell_type": "code",
   "execution_count": null,
   "metadata": {
    "colab": {
     "base_uri": "https://localhost:8080/",
     "height": 745
    },
    "id": "tg0eJzrUkNBM",
    "outputId": "57dff898-5ec2-40b1-f95d-e88d314c4187"
   },
   "outputs": [],
   "source": [
    "sns.heatmap(df_cross_pct_rows, cmap=\"mako\")"
   ]
  },
  {
   "attachments": {},
   "cell_type": "markdown",
   "metadata": {
    "id": "pCOd2Xh9LZvl"
   },
   "source": [
    "**Task:** Add `margins` to the normalised dataframes, to see proportional distribution between crime types."
   ]
  },
  {
   "attachments": {},
   "cell_type": "markdown",
   "metadata": {
    "id": "_33rUzsqWrv8"
   },
   "source": [
    "# Output\n",
    "You can save a dataframe in various formats. The most-used methods for writing to file are `to_excel()` and `to_csv()`, and (more simply) copying to clipboard for pasting into Excel or similar software using `to_clipboard()`."
   ]
  },
  {
   "attachments": {},
   "cell_type": "markdown",
   "metadata": {},
   "source": [
    "First, list your dataframes, using the `%who_ls` magic method."
   ]
  },
  {
   "cell_type": "code",
   "execution_count": null,
   "metadata": {},
   "outputs": [],
   "source": [
    "# List all the dataframes in the notebook\n",
    "%who_ls DataFrame"
   ]
  },
  {
   "attachments": {},
   "cell_type": "markdown",
   "metadata": {
    "id": "ejDDFjWVZi3N"
   },
   "source": [
    "## Copy to clipboard\n",
    "The commonly used to_clipboard() method is good for copy/pasting small datasets into Excel (or other spreadsheet software) on the fly."
   ]
  },
  {
   "cell_type": "code",
   "execution_count": null,
   "metadata": {
    "colab": {
     "base_uri": "https://localhost:8080/",
     "height": 394
    },
    "id": "EARsEvWMZIan",
    "outputId": "b434e390-9ecb-4ec7-a6b4-2917efeba1ab"
   },
   "outputs": [],
   "source": [
    "# Copy to clipboard\n",
    "df_cross_pct_rows.to_clipboard()"
   ]
  },
  {
   "cell_type": "code",
   "execution_count": null,
   "metadata": {
    "id": "nI7sLe1lZx3V"
   },
   "outputs": [],
   "source": []
  }
 ],
 "metadata": {
  "colab": {
   "collapsed_sections": [],
   "provenance": []
  },
  "kernelspec": {
   "display_name": "Python 3.9.5 ('shed_py39')",
   "language": "python",
   "name": "python3"
  },
  "language_info": {
   "codemirror_mode": {
    "name": "ipython",
    "version": 3
   },
   "file_extension": ".py",
   "mimetype": "text/x-python",
   "name": "python",
   "nbconvert_exporter": "python",
   "pygments_lexer": "ipython3",
   "version": "3.10.4"
  },
  "vscode": {
   "interpreter": {
    "hash": "c97e556b2123b92f5d28ca63fa8445826cb82f9f2ab925961a94fd4b4dde06e6"
   }
  }
 },
 "nbformat": 4,
 "nbformat_minor": 1
}
