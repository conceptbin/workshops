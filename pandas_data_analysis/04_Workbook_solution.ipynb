{
 "cells": [
  {
   "attachments": {},
   "cell_type": "markdown",
   "metadata": {},
   "source": [
    "# Practice notebook\n",
    "Please enter the necessary code in the cells below. Follow the instructions in the comment for each cell#, they tell you what the code should _do_ but not _how_ to do it. This is called **pseudocode**: Step-by-step instructions for what the code should do, leaving it up to you to write the executable code."
   ]
  },
  {
   "cell_type": "code",
   "execution_count": null,
   "metadata": {},
   "outputs": [],
   "source": [
    "# Import pandas and seaborn with the abbreviations pd and sns\n",
    "import pandas as pd\n",
    "import seaborn as sns\n",
    "# Seaborn display options\n",
    "sns.set_theme()\n",
    "sns.set_context('talk')"
   ]
  },
  {
   "attachments": {},
   "cell_type": "markdown",
   "metadata": {},
   "source": [
    "Try loading a single sheet from the workbook students.xlsx"
   ]
  },
  {
   "cell_type": "code",
   "execution_count": null,
   "metadata": {},
   "outputs": [],
   "source": [
    "# Load the students.xlsx spreadsheet from the data-subfolder (look on GitHub)\n",
    "# When loading the dataframe:\n",
    "#  Specify the header-row\n",
    "#  Specify which sheet you're loading (there are three)"
   ]
  },
  {
   "cell_type": "code",
   "execution_count": null,
   "metadata": {},
   "outputs": [],
   "source": [
    "# display the first few rows of your dataframe"
   ]
  },
  {
   "attachments": {},
   "cell_type": "markdown",
   "metadata": {},
   "source": [
    "Now, load all of the sheets and use pandas' `concat()` function in combination with the `read_excel()` function to join them together so that you get all three years of test scores in one table. \n",
    "\n",
    "For reference: Here's a great, simple guide for how to [combine multiple Excel worksheets in a Pandas dataframe](https://pbpython.com/pandas-excel-tabs.html)."
   ]
  },
  {
   "cell_type": "code",
   "execution_count": null,
   "metadata": {},
   "outputs": [],
   "source": [
    "# Load all the sheets into one dataframe, using concat()\n",
    "df = pd.concat(pd.read_excel(r'data\\students.xlsx', header=1, sheet_name=None), ignore_index=True)"
   ]
  },
  {
   "cell_type": "code",
   "execution_count": null,
   "metadata": {},
   "outputs": [],
   "source": [
    "df[:5]"
   ]
  },
  {
   "cell_type": "code",
   "execution_count": null,
   "metadata": {},
   "outputs": [],
   "source": [
    "df['Score'].unique()"
   ]
  },
  {
   "cell_type": "code",
   "execution_count": null,
   "metadata": {},
   "outputs": [],
   "source": [
    "# The Score-column in the dataset contains letter-values. \n",
    "# Use replace() to convert the letter-values into numeric values.\n",
    "# Hint: replace() allows you to use a dictionary to replace systematically (e.g, {'A':5, 'B':4, etc.})\n",
    "df['Score'].replace({'A':4, 'B':3, 'C':2, 'D':1, 'F':0}, inplace=True)"
   ]
  },
  {
   "cell_type": "code",
   "execution_count": null,
   "metadata": {},
   "outputs": [],
   "source": [
    "df.head()"
   ]
  },
  {
   "attachments": {},
   "cell_type": "markdown",
   "metadata": {},
   "source": [
    "# Reshape long to wide\n",
    "Use `pd.pivot()` to reshape a dataframe from long to wide."
   ]
  },
  {
   "attachments": {},
   "cell_type": "markdown",
   "metadata": {},
   "source": [
    "## Example 1: Separate columns by subject\n"
   ]
  },
  {
   "cell_type": "code",
   "execution_count": null,
   "metadata": {},
   "outputs": [],
   "source": [
    "# Declare a separate dataframe. Use pivot() \n",
    "# to spread the Subject-column into separate columns, \n",
    "# and calculate the average for each subject\n",
    "df_wide = pd.pivot(\n",
    "    df,\n",
    "    index=['Student', 'Year '],\n",
    "    columns=['Subject'],\n",
    "    values='Score').reset_index()"
   ]
  },
  {
   "cell_type": "code",
   "execution_count": null,
   "metadata": {},
   "outputs": [],
   "source": [
    "df_wide"
   ]
  },
  {
   "attachments": {},
   "cell_type": "markdown",
   "metadata": {},
   "source": [
    "Bonus: Show average for selected subjects (by column):"
   ]
  },
  {
   "cell_type": "code",
   "execution_count": null,
   "metadata": {},
   "outputs": [],
   "source": [
    "subject_list = ['English', 'Maths', 'Skateboarding']\n",
    "for s in subject_list:\n",
    "    mean_s = df_wide[s].mean()\n",
    "    print(f'Average for {s} is: {mean_s}')"
   ]
  },
  {
   "attachments": {},
   "cell_type": "markdown",
   "metadata": {},
   "source": [
    "## Example 2: Columns by year"
   ]
  },
  {
   "cell_type": "code",
   "execution_count": null,
   "metadata": {},
   "outputs": [],
   "source": [
    "# Declare a new dataframe. Spread the Year-column into separate columns.\n",
    "# Sort the dataframe by student name and subject, using sort_values()\n",
    "df_wide2 = pd.pivot(\n",
    "    df,\n",
    "    index=['Student', 'Subject'],\n",
    "    columns='Year ',\n",
    "    values='Score'\n",
    "    ).reset_index().sort_values(by=['Student', 'Subject'])"
   ]
  },
  {
   "cell_type": "code",
   "execution_count": null,
   "metadata": {},
   "outputs": [],
   "source": [
    "df_wide2"
   ]
  },
  {
   "attachments": {},
   "cell_type": "markdown",
   "metadata": {},
   "source": [
    "# Reshape wide to long\n",
    "Use `pd.melt()` to bring multiple columns (the year-columns in this case) into one, transforming the table from wide to long."
   ]
  },
  {
   "cell_type": "code",
   "execution_count": null,
   "metadata": {},
   "outputs": [],
   "source": [
    "df_wide2.keys()"
   ]
  },
  {
   "cell_type": "code",
   "execution_count": null,
   "metadata": {},
   "outputs": [],
   "source": [
    "df2_long = pd.melt(df_wide2, id_vars=['Student', 'Subject'], value_vars=[2020, 2021, 2022])"
   ]
  },
  {
   "cell_type": "code",
   "execution_count": null,
   "metadata": {
    "scrolled": false
   },
   "outputs": [],
   "source": [
    "df2_long"
   ]
  },
  {
   "cell_type": "code",
   "execution_count": null,
   "metadata": {
    "scrolled": true
   },
   "outputs": [],
   "source": [
    "# Sort df2_long by student, subject, year\n",
    "df2_long.sort_values(\n",
    "    by=['Student', 'Subject', 'Year '],\n",
    "    ascending=True,\n",
    "    inplace=True\n",
    "    )"
   ]
  },
  {
   "cell_type": "code",
   "execution_count": null,
   "metadata": {},
   "outputs": [],
   "source": [
    "df2_long"
   ]
  },
  {
   "attachments": {},
   "cell_type": "markdown",
   "metadata": {},
   "source": [
    "# Visualisations"
   ]
  },
  {
   "attachments": {},
   "cell_type": "markdown",
   "metadata": {},
   "source": [
    "## Categorical bar graph\n",
    "For visualising categorical data (e.g., by year, subject, student) see this [Seaborn tutorial](https://seaborn.pydata.org/tutorial/categorical.html)"
   ]
  },
  {
   "cell_type": "code",
   "execution_count": null,
   "metadata": {
    "scrolled": true
   },
   "outputs": [],
   "source": [
    "# Use sns.catplot() to visualise scores by student and/or by year\n",
    "sns.catplot(data=df, x='Year ', y='Score', hue='Student', kind='bar', aspect=2)"
   ]
  },
  {
   "attachments": {},
   "cell_type": "markdown",
   "metadata": {},
   "source": [
    "## Line graph"
   ]
  },
  {
   "cell_type": "code",
   "execution_count": null,
   "metadata": {},
   "outputs": [],
   "source": [
    "df2_long.keys()"
   ]
  },
  {
   "cell_type": "code",
   "execution_count": null,
   "metadata": {},
   "outputs": [],
   "source": [
    "df2_long.head()"
   ]
  },
  {
   "cell_type": "code",
   "execution_count": null,
   "metadata": {},
   "outputs": [],
   "source": [
    "# Line graph from the df2_long\n",
    "sns.relplot(data=df2_long, kind='line', x='Year ', y='value', hue='Student', row='Subject')"
   ]
  },
  {
   "attachments": {},
   "cell_type": "markdown",
   "metadata": {},
   "source": [
    "## Slopegraph\n",
    "Turn this into a **slopegraph** (visualising change between two points) by filtering out the middle year:"
   ]
  },
  {
   "cell_type": "code",
   "execution_count": null,
   "metadata": {},
   "outputs": [],
   "source": [
    "# Select only 2020 and 2022 results\n",
    "df2_long = df2_long[(df2_long['Year ']==2020) | (df2_long['Year ']==2022)] # include 2020 or 2022\n",
    "# Repeat the line graph code above\n",
    "sns.relplot(data=df2_long, kind='line', x='Year ', y='value', hue='Student', row='Subject')"
   ]
  },
  {
   "cell_type": "code",
   "execution_count": null,
   "metadata": {},
   "outputs": [],
   "source": []
  }
 ],
 "metadata": {
  "kernelspec": {
   "display_name": "Python 3",
   "language": "python",
   "name": "python3"
  },
  "language_info": {
   "codemirror_mode": {
    "name": "ipython",
    "version": 3
   },
   "file_extension": ".py",
   "mimetype": "text/x-python",
   "name": "python",
   "nbconvert_exporter": "python",
   "pygments_lexer": "ipython3",
   "version": "3.10.4"
  },
  "vscode": {
   "interpreter": {
    "hash": "bb7e28c91e03929dce0cc87071638f3542d33abb15c82bf85f58e7b91f5666fe"
   }
  }
 },
 "nbformat": 4,
 "nbformat_minor": 2
}
