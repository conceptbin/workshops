{
 "cells": [
  {
   "attachments": {},
   "cell_type": "markdown",
   "metadata": {},
   "source": [
    "# Practice notebook\n",
    "Please enter the necessary code in the cells below. Follow the instructions in the comment for each cell#, they tell you what the code should _do_ but not _how_ to do it. This is called **pseudocode**: Step-by-step instructions for what the code should do, leaving it up to you to write the executable code."
   ]
  },
  {
   "cell_type": "code",
   "execution_count": null,
   "metadata": {},
   "outputs": [],
   "source": [
    "# Import pandas and seaborn with the abbreviations pd and sns\n",
    "import pandas as pd\n",
    "import seaborn as sns\n",
    "# Seaborn display options\n",
    "sns.set_theme()\n",
    "sns.set_context('talk')"
   ]
  },
  {
   "attachments": {},
   "cell_type": "markdown",
   "metadata": {},
   "source": [
    "Try loading a single sheet from the workbook students.xlsx"
   ]
  },
  {
   "cell_type": "code",
   "execution_count": null,
   "metadata": {},
   "outputs": [],
   "source": [
    "# Load the students.xlsx spreadsheet from the data-subfolder (look on GitHub)\n",
    "# When loading the dataframe:\n",
    "#  Specify the header-row\n",
    "#  Specify which sheet you're loading (there are three)\n"
   ]
  },
  {
   "cell_type": "code",
   "execution_count": null,
   "metadata": {},
   "outputs": [],
   "source": [
    "# display the first few rows of your dataframe\n"
   ]
  },
  {
   "attachments": {},
   "cell_type": "markdown",
   "metadata": {},
   "source": [
    "Now, load all of the sheets and use pandas' `concat()` function in combination with the `read_excel()` function to join them together so that you get all three years of test scores in one table. \n",
    "\n",
    "For reference: Here's a great, simple guide for how to [combine multiple Excel worksheets in a Pandas dataframe](https://pbpython.com/pandas-excel-tabs.html)."
   ]
  },
  {
   "cell_type": "code",
   "execution_count": null,
   "metadata": {},
   "outputs": [],
   "source": [
    "# Load all the sheets into one dataframe, using concat()\n"
   ]
  },
  {
   "attachments": {},
   "cell_type": "markdown",
   "metadata": {},
   "source": [
    "# Reshape long to wide\n",
    "Use `pd.pivot()` to reshape a dataframe from long to wide."
   ]
  },
  {
   "attachments": {},
   "cell_type": "markdown",
   "metadata": {},
   "source": [
    "## Example 1: Separate columns by subject\n"
   ]
  },
  {
   "cell_type": "code",
   "execution_count": null,
   "metadata": {},
   "outputs": [],
   "source": [
    "# Declare a separate dataframe. Use pivot() \n",
    "# to spread the Subject-column into separate columns, \n",
    "# and calculate the average for each subject\n"
   ]
  },
  {
   "attachments": {},
   "cell_type": "markdown",
   "metadata": {},
   "source": [
    "## Example 2: Columns by year"
   ]
  },
  {
   "cell_type": "code",
   "execution_count": null,
   "metadata": {},
   "outputs": [],
   "source": [
    "# Declare a new dataframe. Spread the Year-column into separate columns.\n",
    "# Sort the dataframe by student name and subject, using sort_values()\n"
   ]
  },
  {
   "attachments": {},
   "cell_type": "markdown",
   "metadata": {},
   "source": [
    "# Reshape wide to long\n",
    "Use `pd.melt()` to bring multiple columns (the year-columns in this case) into one, transforming the table from wide to long."
   ]
  },
  {
   "cell_type": "code",
   "execution_count": null,
   "metadata": {},
   "outputs": [],
   "source": [
    "df_wide2.keys()"
   ]
  },
  {
   "cell_type": "code",
   "execution_count": null,
   "metadata": {},
   "outputs": [],
   "source": [
    "# Melt original df into a new dataframe titled df2_long:\n"
   ]
  },
  {
   "cell_type": "code",
   "execution_count": null,
   "metadata": {
    "scrolled": true
   },
   "outputs": [],
   "source": [
    "# Sort df2_long by student, subject, year\n"
   ]
  },
  {
   "attachments": {},
   "cell_type": "markdown",
   "metadata": {},
   "source": [
    "# Visualisations"
   ]
  },
  {
   "attachments": {},
   "cell_type": "markdown",
   "metadata": {},
   "source": [
    "## Categorical bar graph\n",
    "For visualising categorical data (e.g., by year, subject, student) see this [Seaborn tutorial](https://seaborn.pydata.org/tutorial/categorical.html)"
   ]
  },
  {
   "cell_type": "code",
   "execution_count": null,
   "metadata": {
    "scrolled": true
   },
   "outputs": [],
   "source": [
    "# Use sns.catplot() to visualise scores by student and/or by year\n"
   ]
  },
  {
   "attachments": {},
   "cell_type": "markdown",
   "metadata": {},
   "source": [
    "## Line graph\n",
    "Use Seaborn's `relplot()` to make a line graph from df2_long (see Seaborn tutorial on [relational graphs](https://seaborn.pydata.org/tutorial/relational.html))"
   ]
  },
  {
   "cell_type": "code",
   "execution_count": null,
   "metadata": {},
   "outputs": [],
   "source": [
    "# Line graph from the df2_long\n"
   ]
  },
  {
   "attachments": {},
   "cell_type": "markdown",
   "metadata": {},
   "source": [
    "## Slopegraph\n",
    "Turn the previous line graph into a **slopegraph** (visualising change between two points) by filtering out the middle year:"
   ]
  },
  {
   "cell_type": "code",
   "execution_count": null,
   "metadata": {},
   "outputs": [],
   "source": [
    "# Select only 2020 and 2022 results\n",
    "\n",
    "# Repeat the line graph code above\n"
   ]
  },
  {
   "cell_type": "code",
   "execution_count": null,
   "metadata": {},
   "outputs": [],
   "source": []
  }
 ],
 "metadata": {
  "kernelspec": {
   "display_name": "Python 3",
   "language": "python",
   "name": "python3"
  },
  "language_info": {
   "codemirror_mode": {
    "name": "ipython",
    "version": 3
   },
   "file_extension": ".py",
   "mimetype": "text/x-python",
   "name": "python",
   "nbconvert_exporter": "python",
   "pygments_lexer": "ipython3",
   "version": "3.10.4"
  },
  "vscode": {
   "interpreter": {
    "hash": "bb7e28c91e03929dce0cc87071638f3542d33abb15c82bf85f58e7b91f5666fe"
   }
  }
 },
 "nbformat": 4,
 "nbformat_minor": 2
}
